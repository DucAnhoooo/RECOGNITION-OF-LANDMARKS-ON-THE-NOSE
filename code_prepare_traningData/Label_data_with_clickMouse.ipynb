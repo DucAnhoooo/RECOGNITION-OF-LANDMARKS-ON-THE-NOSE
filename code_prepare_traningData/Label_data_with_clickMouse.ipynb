{
 "cells": [
  {
   "cell_type": "code",
   "execution_count": 2,
   "metadata": {},
   "outputs": [],
   "source": [
    "#Import dependencies\n",
    "import numpy as np\n",
    "import cv2\n",
    "import pandas as pd"
   ]
  },
  {
   "cell_type": "code",
   "execution_count": 331,
   "metadata": {},
   "outputs": [
    {
     "ename": "error",
     "evalue": "OpenCV(4.6.0) D:\\a\\opencv-python\\opencv-python\\opencv\\modules\\imgproc\\src\\resize.cpp:4052: error: (-215:Assertion failed) !ssize.empty() in function 'cv::resize'\n",
     "output_type": "error",
     "traceback": [
      "\u001b[1;31m---------------------------------------------------------------------------\u001b[0m",
      "\u001b[1;31merror\u001b[0m                                     Traceback (most recent call last)",
      "\u001b[1;32md:\\thu_nghiem\\point_x_y.ipynb Cell 2\u001b[0m in \u001b[0;36m<cell line: 24>\u001b[1;34m()\u001b[0m\n\u001b[0;32m     <a href='vscode-notebook-cell:/d%3A/thu_nghiem/point_x_y.ipynb#W1sZmlsZQ%3D%3D?line=23'>24</a>\u001b[0m \u001b[39mif\u001b[39;00m \u001b[39m__name__\u001b[39m\u001b[39m==\u001b[39m\u001b[39m\"\u001b[39m\u001b[39m__main__\u001b[39m\u001b[39m\"\u001b[39m:\n\u001b[0;32m     <a href='vscode-notebook-cell:/d%3A/thu_nghiem/point_x_y.ipynb#W1sZmlsZQ%3D%3D?line=24'>25</a>\u001b[0m     img \u001b[39m=\u001b[39m cv2\u001b[39m.\u001b[39mimread(\u001b[39m'\u001b[39m\u001b[39mD:/Data_AI_Project/mat_nghieng_crop/img (301).jpg\u001b[39m\u001b[39m'\u001b[39m, \u001b[39m1\u001b[39m) \n\u001b[1;32m---> <a href='vscode-notebook-cell:/d%3A/thu_nghiem/point_x_y.ipynb#W1sZmlsZQ%3D%3D?line=25'>26</a>\u001b[0m     img \u001b[39m=\u001b[39m cv2\u001b[39m.\u001b[39mresize(img, (\u001b[39m96\u001b[39m, \u001b[39m96\u001b[39m), interpolation\u001b[39m=\u001b[39mcv2\u001b[39m.\u001b[39mINTER_AREA)\n\u001b[0;32m     <a href='vscode-notebook-cell:/d%3A/thu_nghiem/point_x_y.ipynb#W1sZmlsZQ%3D%3D?line=26'>27</a>\u001b[0m     cv2\u001b[39m.\u001b[39mnamedWindow(\u001b[39m\"\u001b[39m\u001b[39mimage\u001b[39m\u001b[39m\"\u001b[39m, cv2\u001b[39m.\u001b[39mWINDOW_NORMAL)\n\u001b[0;32m     <a href='vscode-notebook-cell:/d%3A/thu_nghiem/point_x_y.ipynb#W1sZmlsZQ%3D%3D?line=27'>28</a>\u001b[0m     Scale \u001b[39m=\u001b[39m \u001b[39m3\u001b[39m;size \u001b[39m=\u001b[39m [\u001b[39m260\u001b[39m\u001b[39m*\u001b[39mScale, \u001b[39m360\u001b[39m\u001b[39m*\u001b[39mScale];cv2\u001b[39m.\u001b[39mresizeWindow(\u001b[39m\"\u001b[39m\u001b[39mimage\u001b[39m\u001b[39m\"\u001b[39m, size);cv2\u001b[39m.\u001b[39mimshow(\u001b[39m'\u001b[39m\u001b[39mimage\u001b[39m\u001b[39m'\u001b[39m, img);\n",
      "\u001b[1;31merror\u001b[0m: OpenCV(4.6.0) D:\\a\\opencv-python\\opencv-python\\opencv\\modules\\imgproc\\src\\resize.cpp:4052: error: (-215:Assertion failed) !ssize.empty() in function 'cv::resize'\n"
     ]
    }
   ],
   "source": [
    "#from array import array\n",
    "from array import array\n",
    "from tkinter import Scale\n",
    "facial_point = []\n",
    "\n",
    "def click_event_on_img(event, x, y, flags, params): \n",
    "    # checking for left mouse clicks\n",
    "    if event == cv2.EVENT_LBUTTONDOWN: \n",
    "        # displaying the coordinates\n",
    "        # on the Shell\n",
    "        # print(x, ' ', y)\n",
    "        facial_point.append(x)\n",
    "        facial_point.append(y)\n",
    "        # print(facial_point)\n",
    "        img[y,x] = [0, 0, 255]\n",
    "        # cv2.circle(img,(x,y),2,(0, 0, 255),1,-1)\n",
    "        # displaying the coordinates\n",
    "        # on the image window\n",
    "        font = cv2.FONT_HERSHEY_SIMPLEX\n",
    "        # cv2.putText(img, str(x) + ',' +\n",
    "        #             str(y), (x,y), font,\n",
    "        #             1, (255, 255, 0), 5)\n",
    "        cv2.imshow('image', img)\n",
    "        \n",
    "# driver function\n",
    "if __name__==\"__main__\":\n",
    "    img = cv2.imread('D:/Data_AI_Project/mat_nghieng/img (301).jpg', 1) \n",
    "    img = cv2.resize(img, (96, 96), interpolation=cv2.INTER_AREA)\n",
    "    cv2.namedWindow(\"image\", cv2.WINDOW_NORMAL)\n",
    "    # Scale option\n",
    "    Scale = 3\n",
    "    size = [260*Scale, 360*Scale]\n",
    "    cv2.resizeWindow(\"image\", size)\n",
    "    cv2.imshow('image', img)\n",
    "    cv2.setMouseCallback('image', click_event_on_img)\n",
    "    cv2.waitKey(0)\n",
    "    cv2.destroyAllWindows()"
   ]
  },
  {
   "cell_type": "code",
   "execution_count": 329,
   "metadata": {},
   "outputs": [
    {
     "data": {
      "text/html": [
       "<div>\n",
       "<style scoped>\n",
       "    .dataframe tbody tr th:only-of-type {\n",
       "        vertical-align: middle;\n",
       "    }\n",
       "\n",
       "    .dataframe tbody tr th {\n",
       "        vertical-align: top;\n",
       "    }\n",
       "\n",
       "    .dataframe thead th {\n",
       "        text-align: right;\n",
       "    }\n",
       "</style>\n",
       "<table border=\"1\" class=\"dataframe\">\n",
       "  <thead>\n",
       "    <tr style=\"text-align: right;\">\n",
       "      <th></th>\n",
       "      <th>1x</th>\n",
       "      <th>1y</th>\n",
       "      <th>2x</th>\n",
       "      <th>2y</th>\n",
       "      <th>3x</th>\n",
       "      <th>3y</th>\n",
       "      <th>4x</th>\n",
       "      <th>4y</th>\n",
       "      <th>5x</th>\n",
       "      <th>5y</th>\n",
       "    </tr>\n",
       "  </thead>\n",
       "  <tbody>\n",
       "    <tr>\n",
       "      <th>0</th>\n",
       "      <td>74</td>\n",
       "      <td>23</td>\n",
       "      <td>78</td>\n",
       "      <td>32</td>\n",
       "      <td>80</td>\n",
       "      <td>35</td>\n",
       "      <td>81</td>\n",
       "      <td>38</td>\n",
       "      <td>76</td>\n",
       "      <td>44</td>\n",
       "    </tr>\n",
       "  </tbody>\n",
       "</table>\n",
       "</div>"
      ],
      "text/plain": [
       "   1x  1y  2x  2y  3x  3y  4x  4y  5x  5y\n",
       "0  74  23  78  32  80  35  81  38  76  44"
      ]
     },
     "metadata": {},
     "output_type": "display_data"
    }
   ],
   "source": [
    "#MẶT NGHIÊNG: 5 points\n",
    "df1 = pd.DataFrame([facial_point],columns = ['1x', '1y', '2x', '2y', '3x', '3y', '4x', '4y','5x','5y'])\n",
    "display(df1)\n",
    "df1.to_csv('output.csv')\\\n",
    "#copy result to csv"
   ]
  },
  {
   "cell_type": "code",
   "execution_count": 605,
   "metadata": {},
   "outputs": [
    {
     "data": {
      "text/html": [
       "<div>\n",
       "<style scoped>\n",
       "    .dataframe tbody tr th:only-of-type {\n",
       "        vertical-align: middle;\n",
       "    }\n",
       "\n",
       "    .dataframe tbody tr th {\n",
       "        vertical-align: top;\n",
       "    }\n",
       "\n",
       "    .dataframe thead th {\n",
       "        text-align: right;\n",
       "    }\n",
       "</style>\n",
       "<table border=\"1\" class=\"dataframe\">\n",
       "  <thead>\n",
       "    <tr style=\"text-align: right;\">\n",
       "      <th></th>\n",
       "      <th>6x</th>\n",
       "      <th>6y</th>\n",
       "      <th>7x</th>\n",
       "      <th>7y</th>\n",
       "      <th>8x</th>\n",
       "      <th>8y</th>\n",
       "      <th>9x</th>\n",
       "      <th>9y</th>\n",
       "      <th>10x</th>\n",
       "      <th>10y</th>\n",
       "      <th>11x</th>\n",
       "      <th>11y</th>\n",
       "      <th>12x</th>\n",
       "      <th>12y</th>\n",
       "      <th>13x</th>\n",
       "      <th>13y</th>\n",
       "      <th>14x</th>\n",
       "      <th>14y</th>\n",
       "    </tr>\n",
       "  </thead>\n",
       "  <tbody>\n",
       "    <tr>\n",
       "      <th>0</th>\n",
       "      <td>49</td>\n",
       "      <td>25</td>\n",
       "      <td>42</td>\n",
       "      <td>30</td>\n",
       "      <td>48</td>\n",
       "      <td>32</td>\n",
       "      <td>56</td>\n",
       "      <td>32</td>\n",
       "      <td>59</td>\n",
       "      <td>36</td>\n",
       "      <td>58</td>\n",
       "      <td>41</td>\n",
       "      <td>48</td>\n",
       "      <td>37</td>\n",
       "      <td>40</td>\n",
       "      <td>40</td>\n",
       "      <td>37</td>\n",
       "      <td>35</td>\n",
       "    </tr>\n",
       "  </tbody>\n",
       "</table>\n",
       "</div>"
      ],
      "text/plain": [
       "   6x  6y  7x  7y  8x  8y  9x  9y  10x  10y  11x  11y  12x  12y  13x  13y  \\\n",
       "0  49  25  42  30  48  32  56  32   59   36   58   41   48   37   40   40   \n",
       "\n",
       "   14x  14y  \n",
       "0   37   35  "
      ]
     },
     "metadata": {},
     "output_type": "display_data"
    }
   ],
   "source": [
    "# MẶT DƯỚI: 9 points\n",
    "df1 = pd.DataFrame([facial_point],columns = ['6x', '6y', '7x', '7y', '8x', '8y', '9x', '9y','10x','10y','11x','11y','12x','12y','13x', '13y','14x','14y'])\n",
    "display(df1)\n",
    "df1.to_csv('output.csv')"
   ]
  },
  {
   "cell_type": "markdown",
   "metadata": {},
   "source": []
  },
  {
   "cell_type": "code",
   "execution_count": null,
   "metadata": {},
   "outputs": [],
   "source": [
    "# MẶT TRƯỚC: 7 points\n",
    "df1 = pd.DataFrame([facial_point],columns = ['15x', '15y', '16x', '16y', '17x', '17y', '18x', '18y','19x','19y','20x','20y','21x','21y'])\n",
    "display(df1)\n",
    "df1.to_csv('output.csv')"
   ]
  },
  {
   "cell_type": "code",
   "execution_count": 11,
   "metadata": {},
   "outputs": [],
   "source": [
    "# df1.to_csv('output.csv')"
   ]
  }
 ],
 "metadata": {
  "kernelspec": {
   "display_name": "Python 3",
   "language": "python",
   "name": "python3"
  },
  "language_info": {
   "codemirror_mode": {
    "name": "ipython",
    "version": 3
   },
   "file_extension": ".py",
   "mimetype": "text/x-python",
   "name": "python",
   "nbconvert_exporter": "python",
   "pygments_lexer": "ipython3",
   "version": "3.10.2 (tags/v3.10.2:a58ebcc, Jan 17 2022, 14:12:15) [MSC v.1929 64 bit (AMD64)]"
  },
  "orig_nbformat": 4,
  "vscode": {
   "interpreter": {
    "hash": "a071d83c103f2f646a7ebcf526c44aec101661c9015dfac0b89919a45e761392"
   }
  }
 },
 "nbformat": 4,
 "nbformat_minor": 2
}
